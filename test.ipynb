{
 "cells": [
  {
   "cell_type": "code",
   "execution_count": 1,
   "id": "dc2ae1c3",
   "metadata": {},
   "outputs": [
    {
     "name": "stdout",
     "output_type": "stream",
     "text": [
      "ila\n"
     ]
    }
   ],
   "source": [
    "# first challenge\n",
    "\n",
    "def reverser(arr):\n",
    "    \n",
    "    newArr = \"\"\n",
    "    for i in arr:\n",
    "        newArr = i + newArr #اضافه کردن به استرینگ جدید ولی برعکس\n",
    "    print(newArr)\n",
    "        \n",
    "reverser(\"ali\")\n",
    "        \n"
   ]
  },
  {
   "cell_type": "code",
   "execution_count": null,
   "id": "195175a8",
   "metadata": {},
   "outputs": [],
   "source": [
    "#second challenge\n",
    "\n",
    "def max_count():\n",
    "    lst = list(map(int,input().split()))\n",
    "    checker = {}#درست کردن یه دیکشنری خالی برای شمارش اعداد\n",
    "    \n",
    "    for i in lst:\n",
    "        if i in checker:\n",
    "                checker[i] +=1\n",
    "        else:\n",
    "            checker[i] = 1\n",
    "        \n",
    "    number = max(checker , key= checker.get)        \n",
    "    print(number)\n",
    "               \n",
    "    \n",
    "max_count() "
   ]
  },
  {
   "cell_type": "code",
   "execution_count": null,
   "id": "8eed9373",
   "metadata": {},
   "outputs": [],
   "source": [
    " #third  challenge\n",
    "\n",
    "def find():\n",
    "    num = int(input())\n",
    "    if num == 2:\n",
    "        print('True')\n",
    "        return\n",
    "    \n",
    "    \n",
    "    if num%2 == 0 and num>2:\n",
    "        print('False')\n",
    "        return\n",
    "        \n",
    "        \n",
    "    \n",
    "    for i in range(3,int(num**0.5)+1,2):  #بررسی باقی مانده اعداد فرد تا جذر عدد مورد نظر ما\n",
    "        if num%i == 0:\n",
    "            print(\"False\")\n",
    "            return\n",
    "        \n",
    "    print(\"True\")\n",
    "            \n",
    "\n",
    "    \n",
    "\n",
    "find()"
   ]
  },
  {
   "cell_type": "code",
   "execution_count": null,
   "id": "4d3e9d2d",
   "metadata": {},
   "outputs": [],
   "source": [
    "   #Fourth challenge\n",
    "\n",
    "def matrix():\n",
    "    input = [[1,2,3,4],[5,6,7,8],[9,10,11,12],[13,14,15,16]]\n",
    "    j = 0\n",
    "    sum = 0\n",
    "    for i in input:\n",
    "        # print(i[j])\n",
    "        sum += i[j]\n",
    "        j+=1\n",
    "    print(sum)\n",
    "    \n",
    "matrix()"
   ]
  },
  {
   "cell_type": "code",
   "execution_count": null,
   "id": "26e62137",
   "metadata": {},
   "outputs": [],
   "source": [
    "   \n",
    "\n",
    "\n",
    "\n",
    "#fifth challenge\n",
    "\n",
    "\n",
    "def reverser_sentenc():\n",
    "    sentenc = input().split()\n",
    "    \n",
    "    new_sen = \"\"\n",
    "    \n",
    "    for i in sentenc:\n",
    "        new_sen = i + \" \"+  new_sen\n",
    "    print(new_sen)\n",
    "\n",
    "reverser_sentenc()    "
   ]
  }
 ],
 "metadata": {
  "kernelspec": {
   "display_name": "base",
   "language": "python",
   "name": "python3"
  },
  "language_info": {
   "codemirror_mode": {
    "name": "ipython",
    "version": 3
   },
   "file_extension": ".py",
   "mimetype": "text/x-python",
   "name": "python",
   "nbconvert_exporter": "python",
   "pygments_lexer": "ipython3",
   "version": "3.12.3"
  }
 },
 "nbformat": 4,
 "nbformat_minor": 5
}
