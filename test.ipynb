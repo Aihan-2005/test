{
 "cells": [
  {
   "cell_type": "code",
   "execution_count": 3,
   "id": "dc2ae1c3",
   "metadata": {},
   "outputs": [
    {
     "name": "stdout",
     "output_type": "stream",
     "text": [
      "a \n",
      "la \n",
      "ila \n"
     ]
    }
   ],
   "source": [
    "# first challenge\n",
    "\n",
    "def reverser(arr):\n",
    "    \n",
    "    newArr = \" \"\n",
    "    for i in arr:\n",
    "        newArr = i + newArr\n",
    "        print(newArr)\n",
    "        \n",
    "reverser(\"ali\")\n",
    "        \n",
    "   "
   ]
  },
  {
   "cell_type": "code",
   "execution_count": null,
   "id": "195175a8",
   "metadata": {},
   "outputs": [],
   "source": []
  }
 ],
 "metadata": {
  "kernelspec": {
   "display_name": "base",
   "language": "python",
   "name": "python3"
  },
  "language_info": {
   "codemirror_mode": {
    "name": "ipython",
    "version": 3
   },
   "file_extension": ".py",
   "mimetype": "text/x-python",
   "name": "python",
   "nbconvert_exporter": "python",
   "pygments_lexer": "ipython3",
   "version": "3.12.3"
  }
 },
 "nbformat": 4,
 "nbformat_minor": 5
}
