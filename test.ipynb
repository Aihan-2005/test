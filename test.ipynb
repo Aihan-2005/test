{
 "cells": [
  {
   "cell_type": "code",
   "execution_count": null,
   "id": "dc2ae1c3",
   "metadata": {},
   "outputs": [
    {
     "name": "stdout",
     "output_type": "stream",
     "text": [
      "ila\n"
     ]
    }
   ],
   "source": [
    "# first challenge\n",
    "\n",
    "def reverser(arr):\n",
    "    \n",
    "    newArr = \"\"\n",
    "    for i in arr:\n",
    "        newArr = i + newArr #اضافه کردن به استرینگ جدید ولی برعکس\n",
    "    print(newArr)\n",
    "        \n",
    "reverser(\"ali\")\n",
    "        \n",
    "        \n",
    "   "
   ]
  },
  {
   "cell_type": "code",
   "execution_count": 1,
   "id": "90e0954a",
   "metadata": {},
   "outputs": [
    {
     "name": "stdout",
     "output_type": "stream",
     "text": [
      "2\n"
     ]
    }
   ],
   "source": [
    "#second challenge\n",
    "\n",
    "def max_count():\n",
    "    lst = list(map(int,input().split()))\n",
    "    checker = {}#درست کردن یه دیکشنری خالی برای شمارش اعداد\n",
    "    \n",
    "    for i in lst:\n",
    "        if i in checker:\n",
    "                checker[i] +=1\n",
    "        else:\n",
    "            checker[i] = 1\n",
    "        \n",
    "    number = max(checker , key= checker.get)        \n",
    "    print(number)\n",
    "               \n",
    "    \n",
    "max_count() \n",
    "    "
   ]
  },
  {
   "cell_type": "code",
   "execution_count": null,
   "id": "d1746123",
   "metadata": {},
   "outputs": [
    {
     "name": "stdout",
     "output_type": "stream",
     "text": [
      "False\n"
     ]
    }
   ],
   "source": [
    "#third  challenge\n",
    "\n",
    "#مشخص کردن اول بودن با بررسی برخی شرط ها\n",
    "def find():\n",
    "    num = int(input())\n",
    "    if num == 2:\n",
    "        print('True')\n",
    "        return\n",
    "    \n",
    "    \n",
    "    if num%2 == 0 and num>2:\n",
    "        print('False')\n",
    "        return\n",
    "        \n",
    "        \n",
    "    \n",
    "    for i in range(3,int(num**0.5)+1,2):  #بررسی باقی مانده اعداد فرد تا جذر عدد مورد نظر ما\n",
    "        if num%i == 0:\n",
    "            print(\"False\")\n",
    "            return\n",
    "        \n",
    "    print(\"True\")\n",
    "            \n",
    "\n",
    "    \n",
    "\n",
    "find()"
   ]
  },
  {
   "cell_type": "code",
   "execution_count": 9,
   "id": "9f05dcc5",
   "metadata": {},
   "outputs": [
    {
     "name": "stdout",
     "output_type": "stream",
     "text": [
      "34\n"
     ]
    }
   ],
   "source": [
    "#Fourth challenge\n",
    "\n",
    "#پیدا کردن  مجموع با کم حلقه و جمع کردن انها حالت ورودی ثابت و  اینکه کاربر خودش وارد کند ماتریس رو نوشته شده هر دوحالت\n",
    "def matrix_sum():\n",
    "    matrix = [[1,2,3,4],[5,6,7,8],[9,10,11,12],[13,14,15,16]]\n",
    "    \n",
    "    \n",
    "    # n = int(input('تعداد سطر و ستون ماتریس خود را وارد کنید'))\n",
    "    \n",
    "    # matrix= []\n",
    "    # print(\"عناصر ماتریس را وارد کنید سطز به سطر\")\n",
    "    # for i in range(n):\n",
    "    #     row = list(map(int,input(f\"سطر{i+1}:\").split()))\n",
    "    #     if len(row) != n:\n",
    "    #         print(\"تعداد عناصر این سطر باید ,n, تا باشد\")\n",
    "    #         return\n",
    "    #     matrix.append(row)\n",
    "    \n",
    "    j = 0\n",
    "    sum = 0\n",
    "    for i in matrix:\n",
    "        # print(i[j])\n",
    "        sum += i[j]\n",
    "        j+=1\n",
    "    print(sum)\n",
    "    \n",
    "matrix_sum()\n",
    "\n",
    "\n"
   ]
  },
  {
   "cell_type": "code",
   "execution_count": null,
   "id": "e1246ee1",
   "metadata": {},
   "outputs": [
    {
     "name": "stdout",
     "output_type": "stream",
     "text": [
      "Aihan man hi \n"
     ]
    }
   ],
   "source": [
    "#fifth challenge\n",
    "\n",
    "#پیدا کردن وارون جمله به کمک یه استرینگ خالی\n",
    "def reverser_sentenc():\n",
    "    sentenc = input().split()\n",
    "    \n",
    "    new_sen = \"\"\n",
    "    \n",
    "    for i in sentenc:\n",
    "        new_sen = i + \" \"+  new_sen\n",
    "    print(new_sen)\n",
    "\n",
    "reverser_sentenc()    "
   ]
  },
  {
   "cell_type": "code",
   "execution_count": null,
   "id": "611ec4e5",
   "metadata": {},
   "outputs": [
    {
     "name": "stdout",
     "output_type": "stream",
     "text": [
      "مجموع کل پول ها جمع شده از پرداخت:119920\n",
      "میانگین مبلغ فروش:23984.0\n",
      "بیشترین فروش در یک روز:102000\n"
     ]
    }
   ],
   "source": [
    "import pandas as pd\n",
    "\n",
    "df = pd.read_csv('Data.csv')\n",
    "\n",
    "#درامد \n",
    "total_sales = df[\"هزینه کلی فروش\"].sum()\n",
    "print(f\"مجموع کل پول ها جمع شده از پرداخت:{total_sales}\")\n",
    "\n",
    "#میانگین درامد\n",
    "average = df[\"هزینه کلی فروش\"].mean()\n",
    "print(f\"میانگین مبلغ فروش:{average}\")\n",
    "\n",
    "\n",
    "\n",
    "#بیشترین فروش توی یک روز\n",
    "days_money = df.groupby(\"تاریخ\")[\"هزینه کلی فروش\"].sum()\n",
    "max_cell = days_money.max()\n",
    "print(f\"بیشترین فروش در یک روز:{max_cell}\")\n"
   ]
  },
  {
   "cell_type": "code",
   "execution_count": null,
   "id": "64dc0cdd",
   "metadata": {},
   "outputs": [],
   "source": []
  }
 ],
 "metadata": {
  "kernelspec": {
   "display_name": "base",
   "language": "python",
   "name": "python3"
  },
  "language_info": {
   "codemirror_mode": {
    "name": "ipython",
    "version": 3
   },
   "file_extension": ".py",
   "mimetype": "text/x-python",
   "name": "python",
   "nbconvert_exporter": "python",
   "pygments_lexer": "ipython3",
   "version": "3.12.3"
  }
 },
 "nbformat": 4,
 "nbformat_minor": 5
}
